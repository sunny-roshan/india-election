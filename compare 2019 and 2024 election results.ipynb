{
 "cells": [
  {
   "cell_type": "code",
   "execution_count": null,
   "id": "15a08de4-202a-4066-bd26-74fe614af2fa",
   "metadata": {},
   "outputs": [],
   "source": [
    "import geopandas as gpd\n",
    "import pandas as pd\n",
    "import numpy as np\n",
    "import os\n",
    "import matplotlib.pyplot as plt\n",
    "import matplotlib.colors as mcolors\n",
    "from matplotlib.patches import FancyArrow\n",
    "from matplotlib.patches import FancyArrowPatch\n",
    "import xlrd\n",
    "import folium\n",
    "from folium.plugins import FloatImage\n",
    "from branca.colormap import LinearColormap\n",
    "from shapely.ops import unary_union"
   ]
  },
  {
   "cell_type": "code",
   "execution_count": null,
   "id": "a0232fb1-6646-40b8-ba70-a4c1fd1b305e",
   "metadata": {},
   "outputs": [],
   "source": [
    "# Set path\n",
    "os.chdir('/Users/sunny/Library/CloudStorage/OneDrive-Personal/Documents/Python/Electoral maps project')"
   ]
  },
  {
   "cell_type": "code",
   "execution_count": null,
   "id": "167c0df1-f8b8-4b27-8732-96df772b53b6",
   "metadata": {},
   "outputs": [],
   "source": [
    "pwd"
   ]
  },
  {
   "cell_type": "markdown",
   "id": "3b84633a-0aaa-487c-a67d-8ac1bc1c3fa6",
   "metadata": {},
   "source": [
    "**NDA 2024 vs 2019**"
   ]
  },
  {
   "cell_type": "code",
   "execution_count": null,
   "id": "6a23139c-b182-4311-8952-7e08904f86eb",
   "metadata": {},
   "outputs": [],
   "source": [
    "# Load geodatasets\n",
    "geo_nda_2024 = gpd.read_file(\"geo_nda_2024.geojson\")"
   ]
  },
  {
   "cell_type": "code",
   "execution_count": null,
   "id": "0b5a62a7-1479-4f94-b2c5-9efb22ae896f",
   "metadata": {},
   "outputs": [],
   "source": [
    "geo_nda_2019 = gpd.read_file(\"geo_nda_2019.geojson\")"
   ]
  },
  {
   "cell_type": "code",
   "execution_count": null,
   "id": "fbca8cbc-fe04-4cf1-8e7c-aba5eeb68e32",
   "metadata": {},
   "outputs": [],
   "source": [
    "# label cols as 2019 and 2024\n",
    "geo_nda_2019.columns\n",
    "cols_to_tag = ['Candidate', 'Party', 'Total Votes', 'Total Votes Cast', 'Vote Share (%)']\n",
    "\n",
    "# Rename columns in the 2019 dataset\n",
    "geo_nda_2019 = geo_nda_2019.rename(columns={col: f\"{col} (2019)\" for col in cols_to_tag})\n",
    "\n",
    "# Rename columns in the 2024 dataset\n",
    "geo_nda_2024 = geo_nda_2024.rename(columns={col: f\"{col} (2024)\" for col in cols_to_tag})"
   ]
  },
  {
   "cell_type": "code",
   "execution_count": null,
   "id": "e8e65a0b-2648-4f01-b09d-cf885fa5b7cc",
   "metadata": {},
   "outputs": [],
   "source": [
    "geo_nda_2019.head()"
   ]
  },
  {
   "cell_type": "code",
   "execution_count": null,
   "id": "b64938f9-d28b-40fa-a3ce-0c6485482d87",
   "metadata": {},
   "outputs": [],
   "source": [
    "geo_nda_2024.head()"
   ]
  },
  {
   "cell_type": "code",
   "execution_count": null,
   "id": "ce0d94f3-1566-4df5-b802-4561994be0b0",
   "metadata": {},
   "outputs": [],
   "source": [
    "print(geo_nda_2019.columns)\n",
    "print(geo_nda_2024.columns)"
   ]
  },
  {
   "cell_type": "code",
   "execution_count": null,
   "id": "e2cbac43-fed2-4129-940b-086dd8db34b4",
   "metadata": {},
   "outputs": [],
   "source": [
    "cols_to_drop_2019 = ['Total Votes (2019)', 'Total Votes Cast (2019)', 'nda_tag', 'Reserved status', 'Reservation status']\n",
    "cols_to_drop_2024 = ['Total Votes (2024)', 'Total Votes Cast (2024)', 'nda_tag', 'Reserved status']"
   ]
  },
  {
   "cell_type": "code",
   "execution_count": null,
   "id": "8efe05a4-88e0-4319-b7cb-928e2f0f3568",
   "metadata": {},
   "outputs": [],
   "source": [
    "geo_nda_2019 = geo_nda_2019.drop(columns=[col for col in cols_to_drop_2019 if col in geo_nda_2019.columns])"
   ]
  },
  {
   "cell_type": "code",
   "execution_count": null,
   "id": "1f748e2f-7e4d-424e-bede-5f40e1cb9362",
   "metadata": {},
   "outputs": [],
   "source": [
    "geo_nda_2024 = geo_nda_2024.drop(columns=[col for col in cols_to_drop_2024 if col in geo_nda_2024.columns])"
   ]
  },
  {
   "cell_type": "code",
   "execution_count": null,
   "id": "b6114c7e-b442-40f2-9fc2-5a804d45be4b",
   "metadata": {},
   "outputs": [],
   "source": [
    "geo_nda_compare = pd.merge(geo_nda_2019, geo_nda_2024, on=[\"State\", \"Constituency\", \"geometry\"], how=\"outer\")"
   ]
  },
  {
   "cell_type": "code",
   "execution_count": null,
   "id": "ea07b391-7a21-454e-a92c-d1861e0cb87f",
   "metadata": {},
   "outputs": [],
   "source": [
    "geo_nda_compare[(geo_nda_compare[\"Candidate (2019)\"].isna()) | (geo_nda_compare[\"Candidate (2024)\"].isna())]\n",
    "# 18 out of 543 - pretty good\n",
    "# Issues: \n",
    "# 8 in Assam;\n",
    "# 6 in J&K/Ladakh;\n",
    "# 4 (2*2) Daman / Dadra state changed"
   ]
  },
  {
   "cell_type": "code",
   "execution_count": null,
   "id": "b7d8b477-8e17-49c6-a32d-617580424e89",
   "metadata": {},
   "outputs": [],
   "source": [
    "geo_nda_compare[\"Vote Swing\"] = geo_nda_compare[\"Vote Share (%) (2024)\"] - geo_nda_compare[\"Vote Share (%) (2019)\"]"
   ]
  },
  {
   "cell_type": "code",
   "execution_count": null,
   "id": "6d868aff-ec51-4ea9-a5fc-a33e4aa7c5e2",
   "metadata": {},
   "outputs": [],
   "source": [
    "geo_nda_compare[geo_nda_compare[\"Vote Swing\"].isna()]"
   ]
  },
  {
   "cell_type": "markdown",
   "id": "ead7e46a-ebc4-476b-b27e-fd501904ab08",
   "metadata": {},
   "source": [
    "**Maps**"
   ]
  },
  {
   "cell_type": "code",
   "execution_count": null,
   "id": "30be3331-99f4-49d9-8c78-f2b2bf65c3d1",
   "metadata": {},
   "outputs": [],
   "source": [
    "# The India boundary Shapefile (below) doesn't align with the boundary of india drawn by the districts shapefile (in the geo nda, geo bjp, etc datasets)\n",
    "# So going to try using the districts dataset itself\n"
   ]
  },
  {
   "cell_type": "code",
   "execution_count": null,
   "id": "0572d072-d60b-475d-aaf7-a89779d4e989",
   "metadata": {},
   "outputs": [],
   "source": [
    "# Load the shapefile for India's boundary (this should only have the boundary of India, not the districts)\n",
    "india_boundary = gpd.read_file('maps-master/India-State-and-Country-Shapefile-Updated-Jan-2020-master/India_Country_Boundary.shp')"
   ]
  },
  {
   "cell_type": "code",
   "execution_count": null,
   "id": "2f864cc3-d17a-4aff-8088-bb4ede54666b",
   "metadata": {},
   "outputs": [],
   "source": [
    "# Load the shapefile for India's state boundaries (this should only have the boundary of India's states/UTs, not the districts)\n",
    "state_boundaries = gpd.read_file(\"maps-master/States/Admin2.shp\")"
   ]
  },
  {
   "cell_type": "code",
   "execution_count": null,
   "id": "ba2d68c6-01d2-4588-b29a-b5bdf3c4fe72",
   "metadata": {},
   "outputs": [],
   "source": [
    "india_boundary.head()"
   ]
  },
  {
   "cell_type": "code",
   "execution_count": null,
   "id": "ac8cbac7-a3f5-43b3-92c5-d145ee001662",
   "metadata": {},
   "outputs": [],
   "source": [
    "state_boundaries.head()"
   ]
  },
  {
   "cell_type": "code",
   "execution_count": null,
   "id": "df363f2e-eed0-491d-8015-e168d8e358e9",
   "metadata": {},
   "outputs": [],
   "source": [
    "# Plot the India map, check that it makes sense\n",
    "fig, ax = plt.subplots(figsize=(15, 15))\n",
    "india_boundary.boundary.plot(ax=ax, linewidth=0.15)\n",
    "plt.show()"
   ]
  },
  {
   "cell_type": "code",
   "execution_count": null,
   "id": "dbf36375-2c68-4dc4-8b65-07902872c0d2",
   "metadata": {},
   "outputs": [],
   "source": [
    "# Plot the India states map, check that it makes sense\n",
    "fig, ax = plt.subplots(figsize=(15, 15))\n",
    "state_boundaries.boundary.plot(ax=ax, linewidth=0.15)\n",
    "plt.show()"
   ]
  },
  {
   "cell_type": "markdown",
   "id": "89593e08-ccb2-44a8-8e65-b36e042c84ab",
   "metadata": {},
   "source": [
    "**Plot Swings on maps**"
   ]
  },
  {
   "cell_type": "markdown",
   "id": "ffc8bb59-bfa6-4b1a-bee6-db465cf0e4da",
   "metadata": {},
   "source": [
    "***NDA***"
   ]
  },
  {
   "cell_type": "markdown",
   "id": "ada62aef-b04b-4d74-a809-7e278f2a57ed",
   "metadata": {},
   "source": [
    "***Basic static map, swings as colour map, no arrows***"
   ]
  },
  {
   "cell_type": "code",
   "execution_count": null,
   "id": "0bebd6c3-1cfd-4bf0-814a-dc76bda52f09",
   "metadata": {},
   "outputs": [],
   "source": [
    "# Basic map, NDA\n",
    "# No NDA candidates - Kashmir Valley; plus Assam will be dealt with later\n",
    "nda_candidates = geo_nda_compare[geo_nda_compare[\"Vote Swing\"].notna()]\n",
    "no_nda_candidates = geo_nda_compare[geo_nda_compare[\"Vote Swing\"].isna()]\n",
    "\n",
    "# Define a diverging colormap (blue for negative, white for zero, orange for positive)\n",
    "cmap = mcolors.LinearSegmentedColormap.from_list('diverging_cmap', ['#0000FF', '#FFFFFF', '#FF6600'])\n",
    "\n",
    "# Plot the GeoDataFrame\n",
    "fig, ax = plt.subplots(1, 1, figsize=(8, 8))\n",
    "nda_candidates.plot(column=\"Vote Swing\", \n",
    "                    cmap=cmap, \n",
    "                    linewidth=0.1, \n",
    "                    edgecolor=\"gray\", \n",
    "                    ax=ax, \n",
    "                    legend=True, \n",
    "                    vmin = -100, \n",
    "                    vmax = 100)\n",
    "\n",
    "no_nda_candidates.plot(color=\"#D3D3D3\", linewidth=0.05, edgecolor=\"gray\", ax=ax)\n",
    "\n",
    "# Add a title\n",
    "ax.set_title(\"NDA 2024 vs 2019 vote swing\", fontsize=16)\n",
    "\n",
    "# Remove axis for better visualization\n",
    "ax.axis('off')\n",
    "\n",
    "# Show the plot\n",
    "plt.show()"
   ]
  },
  {
   "cell_type": "markdown",
   "id": "91d7f8ab-fc8e-49f8-a895-c1fce0cce5b2",
   "metadata": {},
   "source": [
    "***Interactive map, NDA: swings as colourmap, no arrows***"
   ]
  },
  {
   "cell_type": "code",
   "execution_count": null,
   "id": "ef3471f9-45eb-4dcd-acdb-3e1cbbf826bf",
   "metadata": {},
   "outputs": [],
   "source": [
    "# Create a colormap\n",
    "colors = ['blue', 'white', 'orange']\n",
    "colormap = LinearColormap(\n",
    "    colors=colors,\n",
    "    vmin=-100,\n",
    "    vmax=100\n",
    ").to_step(10)\n",
    "colormap.caption = \"NDA Vote Swing: 2024 vs 2019\"\n",
    "\n",
    "# Initialize the map\n",
    "m = folium.Map(location=[20.5937, 78.9629], zoom_start=5, tiles=None)\n",
    "\n",
    "# Add GeoJSON data\n",
    "geojson = folium.GeoJson(\n",
    "    geo_nda_compare.to_json(),\n",
    "    style_function=lambda feature: {\n",
    "        'fillColor': (\n",
    "            '#D3D3D3' if feature['properties']['Vote Swing'] in [None, ''] \n",
    "            else colormap(float(feature['properties']['Vote Swing']))\n",
    "        ),\n",
    "        'color': 'black',\n",
    "        'weight': 0.5,\n",
    "        'fillOpacity': 0.7,\n",
    "    },\n",
    "    tooltip=folium.GeoJsonTooltip(\n",
    "        fields=['State', 'Constituency', 'Vote Swing'],\n",
    "        aliases=['State:', 'Constituency:', 'Vote Swing:'],\n",
    "        localize=True\n",
    "    )\n",
    ").add_to(m)\n",
    "\n",
    "# Fit the map to the bounds of the GeoDataFrame\n",
    "bounds = geo_nda_compare.total_bounds  # [minx, miny, maxx, maxy]\n",
    "m.fit_bounds([[bounds[1], bounds[0]], [bounds[3], bounds[2]]])\n",
    "\n",
    "# Add the colormap to the map\n",
    "colormap.add_to(m)\n",
    "\n",
    "# Inject CSS for a white background\n",
    "from folium.plugins import FloatImage\n",
    "\n",
    "css = \"\"\"\n",
    "<style>\n",
    "    .leaflet-container {\n",
    "        background: #FFFFFF !important;\n",
    "    }\n",
    "</style>\n",
    "\"\"\"\n",
    "folium.Html(css, script=True).add_to(m)\n",
    "\n",
    "# Save and display the map\n",
    "#m.save(\"nda_vote_swing_map.html\")\n",
    "m"
   ]
  },
  {
   "cell_type": "markdown",
   "id": "87e5ad1c-99d9-4dfa-a2a1-f7a46e58b25c",
   "metadata": {},
   "source": [
    "***Static NDA plot with swings as arrows instead of colourmap***"
   ]
  },
  {
   "cell_type": "markdown",
   "id": "7c8dc089-a730-4002-9a93-e874fe1bfc88",
   "metadata": {},
   "source": [
    "***Need to use correct coordinate reference system to plot arrows at constituency centroids***"
   ]
  },
  {
   "cell_type": "code",
   "execution_count": null,
   "id": "ad445552-f106-475e-baf8-b78b3b96b82d",
   "metadata": {},
   "outputs": [],
   "source": [
    "print(geo_nda_compare.crs)"
   ]
  },
  {
   "cell_type": "code",
   "execution_count": null,
   "id": "de6dbcd7-5e4d-486f-b2f2-a94ca4c71e6d",
   "metadata": {},
   "outputs": [],
   "source": [
    "print(india_boundary.crs)"
   ]
  },
  {
   "cell_type": "code",
   "execution_count": null,
   "id": "adc87107-093d-4190-81de-047d40704ac9",
   "metadata": {},
   "outputs": [],
   "source": [
    "print(state_boundaries.crs)"
   ]
  },
  {
   "cell_type": "code",
   "execution_count": null,
   "id": "783eb8ef-0523-48be-b49e-7e22172071b8",
   "metadata": {},
   "outputs": [],
   "source": [
    "geo_nda_compare = geo_nda_compare.to_crs(epsg=7755)"
   ]
  },
  {
   "cell_type": "code",
   "execution_count": null,
   "id": "3d7513bc-e5b1-4c1d-ae4d-0b4be205e701",
   "metadata": {},
   "outputs": [],
   "source": [
    "india_boundary = india_boundary.to_crs(epsg=7755)"
   ]
  },
  {
   "cell_type": "code",
   "execution_count": null,
   "id": "8f242e62-c64e-4bc3-8756-5f6d9e80fe0b",
   "metadata": {},
   "outputs": [],
   "source": [
    "state_boundaries = state_boundaries.to_crs(epsg=7755)"
   ]
  },
  {
   "cell_type": "code",
   "execution_count": null,
   "id": "ae4c06ca-e01a-447b-a7d2-9626f9522570",
   "metadata": {},
   "outputs": [],
   "source": [
    "# Calculate constituency centroids\n",
    "geo_nda_compare['centroid'] = geo_nda_compare['geometry'].centroid\n",
    "geo_nda_compare['centroid_x'] = geo_nda_compare['centroid'].x\n",
    "geo_nda_compare['centroid_y'] = geo_nda_compare['centroid'].y"
   ]
  },
  {
   "cell_type": "code",
   "execution_count": null,
   "id": "ddf18b27-20e7-44b3-90a3-3c285c369504",
   "metadata": {},
   "outputs": [],
   "source": [
    "# Plot\n",
    "fig, ax = plt.subplots(1, 1, figsize=(12, 12))\n",
    "india_boundary.plot(ax=ax, facecolor='#F5F5F5', edgecolor='black', linewidth=0.25, zorder=1)\n",
    "state_boundaries.plot(ax=ax, color='none', edgecolor='#808080', linewidth=0.25, zorder=1)\n",
    "geo_nda_compare.plot(linewidth=0.1, edgecolor=\"#A9A9A9\", facecolor=\"none\", ax=ax)\n",
    "\n",
    "# Get the maximum vote swing for scaling\n",
    "max_swing = geo_nda_compare['Vote Swing'].abs().max()\n",
    "\n",
    "# Add arrows\n",
    "for _, row in geo_nda_compare.iterrows():\n",
    "    x_start, y_start = row['centroid_x'], row['centroid_y']\n",
    "    x_end = x_start + (row['Vote Swing'] / max_swing) * 300000  # Adjust scale factor\n",
    "    y_end = y_start + (abs(row['Vote Swing']) / max_swing) * 300000  # Adjust scale factor\n",
    "    # Create the arrow with a tip\n",
    "    arrow = FancyArrowPatch(\n",
    "        (x_start, y_start), (x_end, y_end),  # Start and end points\n",
    "        mutation_scale=8,                   # Size of the arrow head (tip)\n",
    "        color='#0384fc' if row['Vote Swing'] < 0 else '#FF6600',  # Arrow color\n",
    "        arrowstyle='-|>',                    # Use an arrowhead style\n",
    "        linewidth=0.5,\n",
    "        zorder=2  # Ensure the arrows are above the boundaries\n",
    "    )\n",
    "    ax.add_patch(arrow)\n",
    "\n",
    "# Set title and axis options\n",
    "ax.set_title('NDA Vote Share Swing, 2024 vs 2019', fontsize=16)\n",
    "plt.axis('off')\n",
    "#plt.savefig(\"nda_vote_swing_arrows_map.png\", dpi=900, bbox_inches=\"tight\")\n",
    "plt.show()"
   ]
  },
  {
   "cell_type": "markdown",
   "id": "5a44728d-6a1b-4120-a7b6-1792a263eae4",
   "metadata": {},
   "source": [
    "***NDA Interactive map with swings as arrows***"
   ]
  },
  {
   "cell_type": "code",
   "execution_count": null,
   "id": "43b607ec-4e67-4d7c-b52d-2a18fc6e09b7",
   "metadata": {},
   "outputs": [],
   "source": [
    "# Data cleaning steps"
   ]
  },
  {
   "cell_type": "code",
   "execution_count": null,
   "id": "642de8b5-97b2-4a82-839b-4c8fe378439c",
   "metadata": {},
   "outputs": [],
   "source": [
    "# Ensure the CRS is correct (in latitude/longitude coordinates, EPSG:4326)\n",
    "print(geo_nda_compare.crs)\n",
    "geo_nda_compare = geo_nda_compare.to_crs(epsg=4326)"
   ]
  },
  {
   "cell_type": "code",
   "execution_count": null,
   "id": "f0cc5408-ff87-4f6a-a023-400306bd88bc",
   "metadata": {},
   "outputs": [],
   "source": [
    "print(india_boundary.crs)\n",
    "india_boundary = india_boundary.to_crs(epsg=4326)"
   ]
  },
  {
   "cell_type": "code",
   "execution_count": null,
   "id": "d43e2bfe-b17c-4b22-99dd-92946abbc247",
   "metadata": {},
   "outputs": [],
   "source": [
    "# Calculate constituency centroids\n",
    "# Step 1: Datset without any rows where vote swing is missing\n",
    "geo_nda_compare_nomiss = geo_nda_compare.dropna(subset=['Vote Swing']).copy()\n",
    "\n",
    "# Step 1: Reproject the GeoDataFrame to a projected CRS\n",
    "geo_projected = geo_nda_compare_nomiss.to_crs(epsg=3857)  # Web Mercator or another suitable projected CRS\n",
    "\n",
    "# Step 2: Calculate centroids in the projected CRS\n",
    "geo_projected['centroid'] = geo_projected['geometry'].centroid\n",
    "\n",
    "# Step 3: Reproject centroids back to geographic CRS (EPSG:4326)\n",
    "geo_nda_compare = geo_nda_compare.to_crs(epsg=4326)\n",
    "geo_nda_compare_nomiss = geo_nda_compare_nomiss.to_crs(epsg=4326)\n",
    "geo_nda_compare_nomiss['centroid'] = geo_projected['centroid'].to_crs(epsg=4326)\n",
    "\n",
    "# Now, geo_nda_compare['centroid'] contains valid lat/lon values"
   ]
  },
  {
   "cell_type": "code",
   "execution_count": null,
   "id": "ed5297c0-f4b2-46fd-8e21-1d537f6a4f36",
   "metadata": {},
   "outputs": [],
   "source": [
    "# Try mapping\n",
    "# Combine all geometries into a single boundary\n",
    "india_outline = gpd.GeoDataFrame(\n",
    "    geometry=[unary_union(geo_nda_compare.geometry)],\n",
    "    crs=geo_nda_compare.crs\n",
    ")\n",
    "\n",
    "# Initialize the map\n",
    "m = folium.Map(location=[20.5937, 78.9629], zoom_start=5, tiles=None)\n",
    "\n",
    "# Add the external boundary to the map\n",
    "folium.GeoJson(\n",
    "    india_outline.to_json(),\n",
    "    style_function=lambda feature: {\n",
    "        'color': 'black',  # Black outline for India\n",
    "        'weight': 1,\n",
    "        'fillOpacity': 0,\n",
    "    }\n",
    ").add_to(m)\n",
    "\n",
    "# Add constituency boundaries\n",
    "folium.GeoJson(\n",
    "    geo_nda_compare[['geometry']].to_json(),  # Use only the geometry column\n",
    "    style_function=lambda feature: {\n",
    "        'color': '#A9A9A9',\n",
    "        'weight': 0.6,\n",
    "        'fillOpacity': 0.1,\n",
    "    }\n",
    ").add_to(m)\n",
    "\n",
    "# Add arrows for each district based on the vote swing\n",
    "max_swing = geo_nda_compare_nomiss['Vote Swing'].abs().max()  # Get max swing to scale the arrows\n",
    "\n",
    "for _, row in geo_nda_compare_nomiss.iterrows():\n",
    "    # Get centroid coordinates for the arrow start point\n",
    "    x_start, y_start = row['centroid'].x, row['centroid'].y\n",
    "    \n",
    "    # Calculate the arrow's end coordinates based on the vote swing\n",
    "    scale_factor = 1  # You can adjust this value to control arrow size\n",
    "    x_end = x_start + (row['Vote Swing'] / max_swing) * scale_factor\n",
    "    y_end = y_start + (abs(row['Vote Swing']) / max_swing) * scale_factor\n",
    "    \n",
    "    # Arrow color based on the swing (blue for away from NDA, orange for towards NDA)\n",
    "    arrow_color = '#0384fc' if row['Vote Swing'] < 0 else '#FF6600'\n",
    "    \n",
    "    # Create a polyline (line) to represent the arrow\n",
    "    arrow_line = folium.PolyLine(\n",
    "        locations=[[y_start, x_start], [y_end, x_end]],  # Using [lat, lon] for coordinates\n",
    "        color=arrow_color,\n",
    "        weight=3,\n",
    "        opacity=0.7\n",
    "    )\n",
    "    \n",
    "    # Add a tooltip to the arrow\n",
    "    tooltip_text = f\"Constituency: {row['Constituency']}<br>Vote Swing: {row['Vote Swing']:.2f}\"\n",
    "    tooltip = folium.Tooltip(tooltip_text)\n",
    "    arrow_line.add_child(tooltip)\n",
    "    \n",
    "    # Add the arrow to the map\n",
    "    arrow_line.add_to(m)\n",
    "\n",
    "# Fit the map to the bounds of the GeoDataFrame\n",
    "bounds = geo_nda_compare.total_bounds  # [minx, miny, maxx, maxy]\n",
    "m.fit_bounds([[bounds[1], bounds[0]], [bounds[3], bounds[2]]])\n",
    "\n",
    "# Save the map as HTML\n",
    "#m.save(\"nda_vote_swing_arrows_tooltip_map.html\")\n",
    "m"
   ]
  },
  {
   "cell_type": "code",
   "execution_count": null,
   "id": "e378a351-4f08-48ed-8c75-9a7b72ac185e",
   "metadata": {},
   "outputs": [],
   "source": [
    "# Trying with proper arrows"
   ]
  },
  {
   "cell_type": "code",
   "execution_count": null,
   "id": "6e9a773b-ae44-4f48-afdc-0f50bc3c0d55",
   "metadata": {},
   "outputs": [],
   "source": [
    "# First create custom SVG images of the arrows with pointy heads"
   ]
  },
  {
   "cell_type": "markdown",
   "id": "70a3407c-2d6f-465c-8933-5a6838d3e2a1",
   "metadata": {},
   "source": [
    "***Code with SVGs***"
   ]
  },
  {
   "cell_type": "code",
   "execution_count": null,
   "id": "6d3b342b-2b5f-4cb1-9bc4-048c45c4d21d",
   "metadata": {},
   "outputs": [],
   "source": [
    "import os\n",
    "from math import atan2, degrees\n",
    "\n",
    "# Try mapping\n",
    "# Combine all geometries into a single boundary\n",
    "india_outline = gpd.GeoDataFrame(\n",
    "    geometry=[unary_union(geo_nda_compare.geometry)],\n",
    "    crs=geo_nda_compare.crs\n",
    ")\n",
    "\n",
    "# Initialize the map\n",
    "m = folium.Map(location=[20.5937, 78.9629], zoom_start=5, tiles=None)\n",
    "\n",
    "# Add the external boundary to the map\n",
    "folium.GeoJson(\n",
    "    india_outline.to_json(),\n",
    "    style_function=lambda feature: {\n",
    "        'color': 'black',  # Black outline for India\n",
    "        'weight': 1,\n",
    "        'fillOpacity': 0,\n",
    "    }\n",
    ").add_to(m)\n",
    "\n",
    "# Add constituency boundaries\n",
    "folium.GeoJson(\n",
    "    geo_nda_compare[['geometry']].to_json(),  # Use only the geometry column\n",
    "    style_function=lambda feature: {\n",
    "        'color': '#A9A9A9',\n",
    "        'weight': 0.6,\n",
    "        'fillOpacity': 0.1,\n",
    "    }\n",
    ").add_to(m)\n",
    "\n",
    "# Add arrows for each district based on the vote swing\n",
    "max_swing = geo_nda_compare_nomiss['Vote Swing'].abs().max()  # Get max swing to scale the arrows\n",
    "\n",
    "for _, row in geo_nda_compare_nomiss.iterrows():\n",
    "    # Get centroid coordinates for the arrow start point\n",
    "    x_start, y_start = row['centroid'].x, row['centroid'].y\n",
    "    \n",
    "    # Calculate the arrow's end coordinates based on the vote swing\n",
    "    scale_factor = 1  # Adjust this value to control arrow size\n",
    "    x_end = x_start + (row['Vote Swing'] / max_swing) * scale_factor\n",
    "    y_end = y_start + (abs(row['Vote Swing']) / max_swing) * scale_factor\n",
    "    \n",
    "    # Arrow color based on the swing\n",
    "    arrow_color = '#0384fc' if row['Vote Swing'] < 0 else '#FF6600'\n",
    "\n",
    "    # Create a polyline (line) to represent the arrow body\n",
    "    arrow_line = folium.PolyLine(\n",
    "        locations=[[y_start, x_start], [y_end, x_end]],  # Using [lat, lon] for coordinates\n",
    "        color=arrow_color,\n",
    "        weight=3,\n",
    "        opacity=0.7\n",
    "    )\n",
    "    \n",
    "    # Add a tooltip to the arrow\n",
    "    tooltip_text = f\"Constituency: {row['Constituency']}<br>Vote Swing: {row['Vote Swing']:.2f}\"\n",
    "    tooltip = folium.Tooltip(tooltip_text)\n",
    "    arrow_line.add_child(tooltip)\n",
    "    \n",
    "    # Add the arrow to the map\n",
    "    arrow_line.add_to(m)\n",
    "    \n",
    "    # Calculate the angle of rotation for the arrowhead\n",
    "    angle = degrees(atan2(y_end - y_start, x_end - x_start))\n",
    "    \n",
    "    # Define the arrowhead file to use\n",
    "    arrowhead_file = \"/Users/sunny/Documents/GitHub/india-election/graphics/blue_arrowhead.svg\" if arrow_color == \"#0384fc\" else \"/Users/sunny/Documents/GitHub/india-election/graphics/blue_arrowhead.svg\"\n",
    "    \n",
    "    # Add the arrowhead as a custom marker\n",
    "    folium.Marker(\n",
    "        location=[y_end, x_end],  # The arrow tip coordinates\n",
    "        icon=folium.CustomIcon(arrowhead_file, icon_size=(24, 24))\n",
    "    ).add_to(m)\n",
    "\n",
    "# Fit the map to the bounds of the GeoDataFrame\n",
    "bounds = geo_nda_compare.total_bounds  # [minx, miny, maxx, maxy]\n",
    "m.fit_bounds([[bounds[1], bounds[0]], [bounds[3], bounds[2]]])\n",
    "\n",
    "# Save the map as HTML\n",
    "#m.save(\"nda_vote_swing_arrows_with_heads_map.html\")\n",
    "m"
   ]
  },
  {
   "cell_type": "markdown",
   "id": "e4a8e92f-2d05-4893-a8e4-c3af6eaebf1d",
   "metadata": {},
   "source": [
    "**BJP Comparison**"
   ]
  },
  {
   "cell_type": "markdown",
   "id": "ed99e5f2-81b2-4690-8344-8bb2d04d24f0",
   "metadata": {},
   "source": [
    "***Merge 2019 and 2024 datasets, calculate vote swing***"
   ]
  },
  {
   "cell_type": "code",
   "execution_count": null,
   "id": "a1eda6ab-0116-4c97-bac6-7d64b3c6fbec",
   "metadata": {},
   "outputs": [],
   "source": [
    "geo_bjp_2019 = gpd.read_file(\"geo_bjp_2019.geojson\")"
   ]
  },
  {
   "cell_type": "code",
   "execution_count": null,
   "id": "a0e7afa9-e3a7-40be-866e-0e6b62e8ae4f",
   "metadata": {},
   "outputs": [],
   "source": [
    "geo_bjp_2024 = gpd.read_file(\"geo_bjp_2024.geojson\")"
   ]
  },
  {
   "cell_type": "code",
   "execution_count": null,
   "id": "57d5d19f-c1a9-49c1-9010-be7536d21090",
   "metadata": {},
   "outputs": [],
   "source": [
    "# label cols as 2019 and 2024\n",
    "geo_bjp_2019.columns"
   ]
  },
  {
   "cell_type": "code",
   "execution_count": null,
   "id": "ae9994a4-3163-4501-b698-b2b91db6cdfc",
   "metadata": {},
   "outputs": [],
   "source": [
    "geo_bjp_2024.columns"
   ]
  },
  {
   "cell_type": "code",
   "execution_count": null,
   "id": "8bba8723-2bf4-460c-ad38-7d85d7a14064",
   "metadata": {},
   "outputs": [],
   "source": [
    "cols_to_tag = ['Candidate', 'Party', 'Total Votes', 'Total Votes Cast', 'Vote Share (%)']\n",
    "\n",
    "# Rename columns in the 2019 dataset\n",
    "geo_bjp_2019 = geo_bjp_2019.rename(columns={col: f\"{col} (2019)\" for col in cols_to_tag})\n",
    "\n",
    "# Rename columns in the 2024 dataset\n",
    "geo_bjp_2024 = geo_bjp_2024.rename(columns={col: f\"{col} (2024)\" for col in cols_to_tag})"
   ]
  },
  {
   "cell_type": "code",
   "execution_count": null,
   "id": "dc8c5e72-854f-4fca-b8ac-c25ff555e6a8",
   "metadata": {},
   "outputs": [],
   "source": [
    "geo_bjp_2024.columns"
   ]
  },
  {
   "cell_type": "code",
   "execution_count": null,
   "id": "fc352828-aa30-4fb3-8522-a6b2c4e7321c",
   "metadata": {},
   "outputs": [],
   "source": [
    "cols_to_drop_2019 = ['Total Votes (2019)', 'Total Votes Cast (2019)', 'constituency_title', 'state_title', 'Reserved status']\n",
    "cols_to_drop_2024 = ['Total Votes (2024)', 'Total Votes Cast (2024)']\n",
    "geo_bjp_2019 = geo_bjp_2019.drop(columns=[col for col in cols_to_drop_2019 if col in geo_bjp_2019.columns])\n",
    "geo_bjp_2024 = geo_bjp_2024.drop(columns=[col for col in cols_to_drop_2024 if col in geo_bjp_2024.columns])"
   ]
  },
  {
   "cell_type": "code",
   "execution_count": null,
   "id": "45cbaafd-77f8-4c94-bba7-deba5499a149",
   "metadata": {},
   "outputs": [],
   "source": [
    "# Replace BJP with full form in 2019\n",
    "geo_bjp_2019[\"Party (2019)\"] = geo_bjp_compare[\"Party (2019)\"].replace({'BJP' : 'BHARATIYA JANATA PARTY'})"
   ]
  },
  {
   "cell_type": "code",
   "execution_count": null,
   "id": "fc1358ca-8ed0-4992-b527-cb578a3e56d1",
   "metadata": {},
   "outputs": [],
   "source": [
    "geo_bjp_compare = pd.merge(geo_bjp_2019, geo_bjp_2024, on=[\"State\", \"Constituency\", \"geometry\"], how=\"outer\")"
   ]
  },
  {
   "cell_type": "code",
   "execution_count": null,
   "id": "aab42222-8c56-44be-a239-117c84b16a77",
   "metadata": {},
   "outputs": [],
   "source": [
    "geo_bjp_compare"
   ]
  },
  {
   "cell_type": "code",
   "execution_count": null,
   "id": "e87c8ea3-0294-4130-8111-07fceaff7d79",
   "metadata": {},
   "outputs": [],
   "source": [
    "geo_bjp_compare[(geo_bjp_compare[\"Candidate (2019)\"].isna()) | (geo_bjp_compare[\"Candidate (2024)\"].isna())]"
   ]
  },
  {
   "cell_type": "code",
   "execution_count": null,
   "id": "0c1e4a9c-92f9-42ab-932a-0832fe10e63b",
   "metadata": {},
   "outputs": [],
   "source": [
    "geo_bjp_compare[\"Vote Swing\"] = geo_bjp_compare[\"Vote Share (%) (2024)\"] - geo_bjp_compare[\"Vote Share (%) (2019)\"]"
   ]
  },
  {
   "cell_type": "code",
   "execution_count": null,
   "id": "e00d95a5-8d73-4048-8192-0e12d98a0363",
   "metadata": {},
   "outputs": [],
   "source": [
    "geo_bjp_compare"
   ]
  },
  {
   "cell_type": "markdown",
   "id": "782299bf-1cca-46af-baf2-03b44783ea4e",
   "metadata": {},
   "source": [
    "***Map BJP swings***"
   ]
  },
  {
   "cell_type": "code",
   "execution_count": null,
   "id": "aea56448-e797-43a3-80bb-a5b7e6824faf",
   "metadata": {},
   "outputs": [],
   "source": [
    "# Basic map, BJP\n",
    "# No BJP candidates - Kashmir Valley; plus Assam will be dealt with later\n",
    "bjp_candidates = geo_bjp_compare[geo_bjp_compare[\"Vote Swing\"].notna()]\n",
    "no_bjp_candidates = geo_bjp_compare[geo_bjp_compare[\"Vote Swing\"].isna()]\n",
    "\n",
    "# Define a diverging colormap (blue for negative, white for zero, orange for positive)\n",
    "cmap = mcolors.LinearSegmentedColormap.from_list('diverging_cmap', ['#0000FF', '#FFFFFF', '#FF6600'])\n",
    "\n",
    "# Plot the GeoDataFrame\n",
    "fig, ax = plt.subplots(1, 1, figsize=(8, 8))\n",
    "bjp_candidates.plot(column=\"Vote Swing\", \n",
    "                    cmap=cmap, \n",
    "                    linewidth=0.1, \n",
    "                    edgecolor=\"gray\", \n",
    "                    ax=ax, \n",
    "                    legend=True, \n",
    "                    vmin = -100, \n",
    "                    vmax = 100)\n",
    "\n",
    "no_bjp_candidates.plot(color=\"#D3D3D3\", linewidth=0.05, edgecolor=\"gray\", ax=ax)\n",
    "\n",
    "# Add a title\n",
    "ax.set_title(\"BJP 2024 vs 2019 vote swing\", fontsize=16)\n",
    "\n",
    "# Remove axis for better visualization\n",
    "ax.axis('off')\n",
    "\n",
    "# Show the plot\n",
    "plt.show()"
   ]
  },
  {
   "cell_type": "markdown",
   "id": "19cc4730-943d-4a85-b5ac-899b3147b83a",
   "metadata": {},
   "source": [
    "***Static plot with swings as arrows***"
   ]
  },
  {
   "cell_type": "code",
   "execution_count": null,
   "id": "6c0e7a7c-f520-482b-b051-4cb5ec621bb1",
   "metadata": {},
   "outputs": [],
   "source": [
    "print(geo_bjp_compare.crs)"
   ]
  },
  {
   "cell_type": "code",
   "execution_count": null,
   "id": "56a367da-b8ad-4fb2-a810-da9a5a8cdee4",
   "metadata": {},
   "outputs": [],
   "source": [
    "print(india_boundary.crs)"
   ]
  },
  {
   "cell_type": "code",
   "execution_count": null,
   "id": "9bbe147e-1214-4e80-8b6e-76d8e6506eb1",
   "metadata": {},
   "outputs": [],
   "source": [
    "print(state_boundaries.crs)"
   ]
  },
  {
   "cell_type": "code",
   "execution_count": null,
   "id": "4aaa62b0-2eac-4704-8a76-cf5099026176",
   "metadata": {},
   "outputs": [],
   "source": [
    "geo_bjp_compare = geo_bjp_compare.to_crs(epsg=7755)"
   ]
  },
  {
   "cell_type": "code",
   "execution_count": null,
   "id": "e9740e51-18ba-47a9-b16e-a62296469e20",
   "metadata": {},
   "outputs": [],
   "source": [
    "# Calculate constituency centroids\n",
    "geo_bjp_compare['centroid'] = geo_bjp_compare['geometry'].centroid\n",
    "geo_bjp_compare['centroid_x'] = geo_bjp_compare['centroid'].x\n",
    "geo_bjp_compare['centroid_y'] = geo_bjp_compare['centroid'].y"
   ]
  },
  {
   "cell_type": "code",
   "execution_count": null,
   "id": "5e77c3dd-3644-4607-9ff6-adb941b89692",
   "metadata": {},
   "outputs": [],
   "source": [
    "bjp_candidates = geo_bjp_compare[geo_bjp_compare[\"Vote Swing\"].notna()]\n",
    "no_bjp_candidates = geo_bjp_compare[geo_bjp_compare[\"Vote Swing\"].isna()]\n",
    "\n",
    "# Plot\n",
    "fig, ax = plt.subplots(1, 1, figsize=(12, 12))\n",
    "india_boundary.plot(ax=ax, facecolor='#FAFAFA', edgecolor='black', linewidth=0.25, zorder=1)\n",
    "state_boundaries.plot(ax=ax, color='none', edgecolor='#808080', linewidth=0.25, zorder=1)\n",
    "bjp_candidates.plot(linewidth=0.1, edgecolor=\"#A9A9A9\", facecolor=\"none\", ax=ax)\n",
    "no_bjp_candidates.plot(color=\"#D3D3D3\", linewidth=0.05, edgecolor=\"gray\", ax=ax)\n",
    "\n",
    "# Get the maximum vote swing for scaling\n",
    "max_swing = geo_bjp_compare['Vote Swing'].abs().max()\n",
    "\n",
    "# Add arrows\n",
    "for _, row in geo_bjp_compare.iterrows():\n",
    "    x_start, y_start = row['centroid_x'], row['centroid_y']\n",
    "    x_end = x_start + (row['Vote Swing'] / max_swing) * 300000  # Adjust scale factor\n",
    "    y_end = y_start + (abs(row['Vote Swing']) / max_swing) * 300000  # Adjust scale factor\n",
    "    # Create the arrow with a tip\n",
    "    arrow = FancyArrowPatch(\n",
    "        (x_start, y_start), (x_end, y_end),  # Start and end points\n",
    "        mutation_scale=8,                   # Size of the arrow head (tip)\n",
    "        color='#0384fc' if row['Vote Swing'] < 0 else '#FF6600',  # Arrow color\n",
    "        arrowstyle='-|>',                    # Use an arrowhead style\n",
    "        linewidth=0.5,\n",
    "        zorder=2  # Ensure the arrows are above the boundaries\n",
    "    )\n",
    "    ax.add_patch(arrow)\n",
    "\n",
    "# Set title and axis options\n",
    "ax.set_title('BJP Vote Share Swing, 2024 vs 2019', fontsize=16)\n",
    "plt.axis('off')\n",
    "plt.savefig(\"bjp_vote_swing_arrows_map.png\", dpi=900, bbox_inches=\"tight\")\n",
    "plt.show()"
   ]
  },
  {
   "cell_type": "code",
   "execution_count": null,
   "id": "6db127ca-c8b7-4c75-a448-9969e6bcd972",
   "metadata": {},
   "outputs": [],
   "source": []
  }
 ],
 "metadata": {
  "kernelspec": {
   "display_name": "Python 3 (ipykernel)",
   "language": "python",
   "name": "python3"
  },
  "language_info": {
   "codemirror_mode": {
    "name": "ipython",
    "version": 3
   },
   "file_extension": ".py",
   "mimetype": "text/x-python",
   "name": "python",
   "nbconvert_exporter": "python",
   "pygments_lexer": "ipython3",
   "version": "3.12.2"
  }
 },
 "nbformat": 4,
 "nbformat_minor": 5
}
