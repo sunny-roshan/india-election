{
 "cells": [
  {
   "cell_type": "markdown",
   "id": "0c76b2f7-1b4b-4a35-b97a-0aba70862927",
   "metadata": {},
   "source": [
    "**Load packages**"
   ]
  },
  {
   "cell_type": "code",
   "execution_count": null,
   "id": "d16601a9-b20b-4f0f-b45b-5ebb8c51eeba",
   "metadata": {},
   "outputs": [],
   "source": [
    "import geopandas as gpd\n",
    "import pandas as pd\n",
    "import numpy as np\n",
    "import os\n",
    "import matplotlib.pyplot as plt\n",
    "import matplotlib.colors as mcolors\n",
    "from matplotlib.patches import FancyArrow\n",
    "import xlrd\n",
    "import folium\n",
    "from branca.colormap import LinearColormap"
   ]
  },
  {
   "cell_type": "code",
   "execution_count": null,
   "id": "febd5df4-d304-4b4a-99e6-abbfaae36bb9",
   "metadata": {},
   "outputs": [],
   "source": [
    "# Set path\n",
    "os.chdir('/Users/sunny/Library/CloudStorage/OneDrive-Personal/Documents/Python/Electoral maps project')"
   ]
  },
  {
   "cell_type": "code",
   "execution_count": null,
   "id": "549628d9-5f91-45ad-9f60-adce626523e7",
   "metadata": {},
   "outputs": [],
   "source": [
    "pwd"
   ]
  },
  {
   "cell_type": "markdown",
   "id": "07273a78-d063-4b3f-b808-22dcba333756",
   "metadata": {},
   "source": [
    "**Load scraped election results data**"
   ]
  },
  {
   "cell_type": "code",
   "execution_count": null,
   "id": "8c598b63-489c-4769-bfe8-9ed62887ce6f",
   "metadata": {},
   "outputs": [],
   "source": [
    "results = pd.read_csv(\"election_results.csv\")"
   ]
  },
  {
   "cell_type": "code",
   "execution_count": null,
   "id": "4051102d-6f7f-413b-9d47-d24ab0780fd4",
   "metadata": {},
   "outputs": [],
   "source": [
    "results.describe()  # 9445 rows"
   ]
  },
  {
   "cell_type": "code",
   "execution_count": null,
   "id": "7571a339-8486-4d52-adb1-4b9395a40288",
   "metadata": {},
   "outputs": [],
   "source": [
    "results.head(30)"
   ]
  },
  {
   "cell_type": "code",
   "execution_count": null,
   "id": "bbf9ae4e-cdde-4fc2-86fb-dfaa3cecaff1",
   "metadata": {},
   "outputs": [],
   "source": [
    "# Basic cleaning of strings"
   ]
  },
  {
   "cell_type": "code",
   "execution_count": null,
   "id": "9bb13470-6d28-4fa0-8500-780582576260",
   "metadata": {},
   "outputs": [],
   "source": [
    "cols_to_edit = ['Candidate', 'Constituency', 'Party']"
   ]
  },
  {
   "cell_type": "code",
   "execution_count": null,
   "id": "a98d0767-fa94-4e26-b136-5241f94b5c79",
   "metadata": {},
   "outputs": [],
   "source": [
    "for i in cols_to_edit:\n",
    "    results[i] = results[i].str.strip().str.upper()"
   ]
  },
  {
   "cell_type": "code",
   "execution_count": null,
   "id": "8aa3d293-d6a6-4fb3-ac76-c1107f0db6be",
   "metadata": {},
   "outputs": [],
   "source": [
    "results"
   ]
  },
  {
   "cell_type": "code",
   "execution_count": null,
   "id": "ad1f5a68-b9a0-46bd-a381-b70c5b8cf930",
   "metadata": {},
   "outputs": [],
   "source": [
    "# Separate the Constituency column into Constituency name, Reservation status, and State name\n",
    "# Also extract Constituency code and verify that it matches Constituency number\n",
    "# Use regex to extract components\n",
    "pattern = r\"(?P<constituency_code>\\d+) - (?P<constituency_name>[^(]+)(?:\\((?P<reservation_status>ST|SC)\\))? \\((?P<state>.+)\\)\""
   ]
  },
  {
   "cell_type": "code",
   "execution_count": null,
   "id": "b38dea92-4593-406d-9734-48dc3a5fa1fd",
   "metadata": {},
   "outputs": [],
   "source": [
    "# Update the original DataFrame with new columns\n",
    "results[['Constituency Code', 'Constituency Name', 'Reservation Status', 'State']] = results['Constituency'].str.extract(pattern)"
   ]
  },
  {
   "cell_type": "code",
   "execution_count": null,
   "id": "a2d02967-4f53-4b70-8311-993c956fae8c",
   "metadata": {},
   "outputs": [],
   "source": [
    "for col in ['Constituency Name', 'State']:\n",
    "    results[col] = results[col].str.strip()"
   ]
  },
  {
   "cell_type": "code",
   "execution_count": null,
   "id": "64609fca-f264-4116-8c9d-9607b16071d1",
   "metadata": {},
   "outputs": [],
   "source": [
    "# Res status has NaNs where it should be Gen\n",
    "results['Reservation Status'].value_counts(dropna=False)"
   ]
  },
  {
   "cell_type": "code",
   "execution_count": null,
   "id": "e122c84c-db3d-4742-8711-2e6c24d95f80",
   "metadata": {},
   "outputs": [],
   "source": [
    "results['Constituency Name'][results['Reservation Status'].notna()].value_counts(dropna=False)\n",
    "# okay, lol. Res status is hardly populated in ECI website data. Only 5 are labelled. Drop col"
   ]
  },
  {
   "cell_type": "code",
   "execution_count": null,
   "id": "b7d9427a-b3b3-4433-b3b4-24a6285edb89",
   "metadata": {},
   "outputs": [],
   "source": [
    "print(results['Constituency Code'].dtype)\n",
    "print(results['Constituency Number'].dtype)\n",
    "results['Constituency Code'] = results['Constituency Code'].astype(int)\n",
    "print(results['Constituency Code'].dtype)"
   ]
  },
  {
   "cell_type": "code",
   "execution_count": null,
   "id": "7ce5a3d8-8293-4604-ba45-55263ac32eee",
   "metadata": {},
   "outputs": [],
   "source": [
    "assert (results['Constituency Code'] == results['Constituency Number']).all()  # True, can drop one of the cols"
   ]
  },
  {
   "cell_type": "code",
   "execution_count": null,
   "id": "3db0d5e4-a35d-49db-b6f4-3c1737e9da51",
   "metadata": {},
   "outputs": [],
   "source": [
    "# Reshape to get Total votes rows as a column, to verify vote shares\n",
    "# Before doing so, need to convert votes data to numeric"
   ]
  },
  {
   "cell_type": "code",
   "execution_count": null,
   "id": "de0db121-115a-4abe-b458-a8df876e7d5f",
   "metadata": {},
   "outputs": [],
   "source": [
    "results.columns"
   ]
  },
  {
   "cell_type": "code",
   "execution_count": null,
   "id": "f81973cb-f655-45b9-8c32-54ba850aa654",
   "metadata": {},
   "outputs": [],
   "source": [
    "vars_to_num = ['EVM Votes', 'Postal Votes', 'Total Votes', '% of Votes']\n",
    "for col in vars_to_num:\n",
    "    results[col] = results[col].replace(\"-\", np.nan)\n",
    "    results[col] = results[col].astype(float)\n",
    "    print(results[col].dtype)"
   ]
  },
  {
   "cell_type": "code",
   "execution_count": null,
   "id": "ecbbc6b7-37bc-43f1-8c73-2e99333c4a18",
   "metadata": {},
   "outputs": [],
   "source": [
    "results[['EVM Votes', 'Postal Votes', 'Total Votes']] = results[['EVM Votes', 'Postal Votes', 'Total Votes']].fillna(0).astype(int)  # Replace NaN with 0 and convert to int\n",
    "results"
   ]
  },
  {
   "cell_type": "code",
   "execution_count": null,
   "id": "727f08ad-329a-44c6-a90a-08ba8fcc0af2",
   "metadata": {},
   "outputs": [],
   "source": [
    "# Verify total\n",
    "assert (results[\"EVM Votes\"] + results[\"Postal Votes\"] == results[\"Total Votes\"]).all() # Correct sum?"
   ]
  },
  {
   "cell_type": "code",
   "execution_count": null,
   "id": "be22f2ab-1d17-45bc-9e45-94b9bda7a536",
   "metadata": {},
   "outputs": [],
   "source": [
    "# Now create Total Votes Cast column"
   ]
  },
  {
   "cell_type": "code",
   "execution_count": null,
   "id": "4d3ec064-84a3-443f-9308-e7f5eec8af55",
   "metadata": {},
   "outputs": [],
   "source": [
    "# Step 1: Extract total votes cast for each constituency\n",
    "# Filter rows where 'Candidate Name' is 'Total' and create a mapping of Constituency Key to Total Votes\n",
    "total_votes_mapping = results[results['Candidate'] == 'TOTAL'].set_index('Constituency')['Total Votes']"
   ]
  },
  {
   "cell_type": "code",
   "execution_count": null,
   "id": "3b6bf57d-b601-41d3-b2c9-da4a2a061b9f",
   "metadata": {},
   "outputs": [],
   "source": [
    "# Step 2: Map the total votes to the main DataFrame\n",
    "results['Total Votes Cast'] = results['Constituency'].map(total_votes_mapping)"
   ]
  },
  {
   "cell_type": "code",
   "execution_count": null,
   "id": "eb28efaa-1693-4604-88cb-8cf4552d13ac",
   "metadata": {},
   "outputs": [],
   "source": [
    "# Step 3: Calculate vote share for each candidate\n",
    "results['Vote Share (%)'] = (results['Total Votes'] / results['Total Votes Cast']) * 100"
   ]
  },
  {
   "cell_type": "code",
   "execution_count": null,
   "id": "2fe0f55d-995f-4252-8c34-6348ddf031a4",
   "metadata": {},
   "outputs": [],
   "source": [
    "# Verify total votes column\n",
    "assert (results[results['Candidate'] == 'TOTAL']['Total Votes Cast'] == results[results['Candidate'] == 'TOTAL']['Total Votes']).all(), \"Mismatch in total votes!\""
   ]
  },
  {
   "cell_type": "code",
   "execution_count": null,
   "id": "9f2a2dff-7d50-4331-b029-7c40b2d352f0",
   "metadata": {},
   "outputs": [],
   "source": [
    "# After verifying, drop Total rows:\n",
    "results = results[results['Candidate'] != 'TOTAL'].reset_index(drop=True)\n",
    "results"
   ]
  },
  {
   "cell_type": "code",
   "execution_count": null,
   "id": "d28282fa-52c2-4c36-af9e-0cbb4da403e7",
   "metadata": {},
   "outputs": [],
   "source": [
    "# Compare official and calculated vote shares\n",
    "results['vote_share_rounded'] = round(results['Vote Share (%)'], 2)\n",
    "results['vote_share_diff'] = results['vote_share_rounded'] - results['% of Votes']"
   ]
  },
  {
   "cell_type": "code",
   "execution_count": null,
   "id": "e1e3e394-f15d-4306-8ec5-f3e8fc667506",
   "metadata": {},
   "outputs": [],
   "source": [
    "results['vote_share_diff'].value_counts(dropna=False)  # All 0. great. One NaN is Surat - no share - uncontested."
   ]
  },
  {
   "cell_type": "code",
   "execution_count": null,
   "id": "e9cc91aa-b11d-4d0b-8839-a13a3680f0f9",
   "metadata": {},
   "outputs": [],
   "source": [
    "results[results['vote_share_diff'].isna()]  # Surat"
   ]
  },
  {
   "cell_type": "code",
   "execution_count": null,
   "id": "dd78d9bb-c783-4258-8535-00fb20cd3bed",
   "metadata": {},
   "outputs": [],
   "source": [
    "# remove unnecessary cols"
   ]
  },
  {
   "cell_type": "code",
   "execution_count": null,
   "id": "759a8811-7b79-481d-99b8-bd88e9b31afa",
   "metadata": {},
   "outputs": [],
   "source": [
    "columns_to_drop = ['EVM Votes', 'Postal Votes', 'Constituency Code', 'Constituency', \n",
    "                   'Reservation Status', 'S.N.', '% of Votes', 'State Code', \n",
    "                   'Constituency Number', 'vote_share_rounded', 'vote_share_diff'] \n",
    "results = results.drop(columns=[col for col in columns_to_drop if col in results.columns])\n",
    "results"
   ]
  },
  {
   "cell_type": "code",
   "execution_count": null,
   "id": "4162cfd1-5aea-4b6c-a356-21a168a92f99",
   "metadata": {},
   "outputs": [],
   "source": [
    "results.rename(columns={'Constituency Name' : 'Constituency'}, inplace=True)\n",
    "results"
   ]
  },
  {
   "cell_type": "markdown",
   "id": "ac059d47-fd03-40bf-a9b6-9cceddb1c467",
   "metadata": {},
   "source": [
    "***Load map data***  \n",
    "**Boundaries are unchanged except for Assam**"
   ]
  },
  {
   "cell_type": "code",
   "execution_count": null,
   "id": "2575e0cd-8e41-4b91-a9de-aa909d2b2937",
   "metadata": {},
   "outputs": [],
   "source": [
    "districts = gpd.read_file(\"maps-master/parliamentary-constituencies/india_pc_2019.shp\")"
   ]
  },
  {
   "cell_type": "code",
   "execution_count": null,
   "id": "279996d2-88c2-4216-b926-5ce85379a8e5",
   "metadata": {},
   "outputs": [],
   "source": [
    "# Replicate 2019 cleaning\n",
    "districts = districts.drop([\"ST_CODE\", \"PC_CODE\"], axis=1)"
   ]
  },
  {
   "cell_type": "code",
   "execution_count": null,
   "id": "d5434faf-4f63-4610-87cd-7987124587f1",
   "metadata": {},
   "outputs": [],
   "source": [
    "districts"
   ]
  },
  {
   "cell_type": "code",
   "execution_count": null,
   "id": "8a710aa2-d7c1-4f3a-976d-b95a000b0fef",
   "metadata": {},
   "outputs": [],
   "source": [
    "districts.rename(columns = {'ST_NAME' : \"State\", \n",
    "                            'PC_NAME' : \"Constituency\", \n",
    "                            'Res' : \"Reserved status\"}, inplace=True)"
   ]
  },
  {
   "cell_type": "code",
   "execution_count": null,
   "id": "b9d8523d-d6e3-441f-9114-9d59c4df0cf2",
   "metadata": {},
   "outputs": [],
   "source": [
    "districts = districts.sort_values(by = [\"State\", \"Constituency\"], ascending=True, ignore_index=True)"
   ]
  },
  {
   "cell_type": "code",
   "execution_count": null,
   "id": "33a9d6d7-c9a8-4db2-bfab-da44c2b46dab",
   "metadata": {},
   "outputs": [],
   "source": [
    "# Correct Jalaun Reserved status\n",
    "# NB different seats might be reserved in 2024 compared to 2019. Need to check\n",
    "districts.loc[districts[\"Constituency\"] == \"JALAUN (SC)\", \"Reserved status\"] = \"SC\""
   ]
  },
  {
   "cell_type": "code",
   "execution_count": null,
   "id": "321c2ab2-80b1-4383-aba5-58811035fa59",
   "metadata": {},
   "outputs": [],
   "source": [
    "# For simplicity and merge-friendliness, remove 'SC' and 'ST' tags from constituency names\n",
    "# NB specify regex=True, otherwise the replacement will be interpreted literally!\n",
    "districts[\"Constituency\"] = districts[\"Constituency\"].str.replace(r\"\\(.*\", \"\", regex=True).str.strip()"
   ]
  },
  {
   "cell_type": "code",
   "execution_count": null,
   "id": "cfb14004-7700-48bb-aaad-9d7947120724",
   "metadata": {},
   "outputs": [],
   "source": [
    "# A bit of cleaning of string formatting"
   ]
  },
  {
   "cell_type": "code",
   "execution_count": null,
   "id": "4d444702-f9b3-413a-8cf9-752d6bfe518f",
   "metadata": {},
   "outputs": [],
   "source": [
    "for col in ['Constituency', 'State']:\n",
    "    districts[col] = districts[col].str.strip().str.upper()"
   ]
  },
  {
   "cell_type": "code",
   "execution_count": null,
   "id": "af740ece-fd13-4ef2-8e35-44b06c8f7fd6",
   "metadata": {},
   "outputs": [],
   "source": [
    "districts['Reserved status'] = districts['Reserved status'].replace({'GEN' : 'General'})"
   ]
  },
  {
   "cell_type": "code",
   "execution_count": null,
   "id": "2d0becfc-a2b8-48b6-a400-5cbfae8dfe48",
   "metadata": {},
   "outputs": [],
   "source": [
    "# Plot the map, check that it makes sense\n",
    "fig, ax = plt.subplots(figsize=(10, 10))\n",
    "districts.boundary.plot(ax=ax, linewidth=0.15)\n",
    "plt.show()"
   ]
  },
  {
   "cell_type": "code",
   "execution_count": null,
   "id": "bf2300f8-75ca-463a-847c-10e5efcc6e8e",
   "metadata": {},
   "outputs": [],
   "source": [
    "districts['Reserved status'].value_counts()"
   ]
  },
  {
   "cell_type": "code",
   "execution_count": null,
   "id": "051b48e5-6948-4491-9c25-093ba947e598",
   "metadata": {},
   "outputs": [],
   "source": [
    "# Check and clean state names in both datasets for merge"
   ]
  },
  {
   "cell_type": "code",
   "execution_count": null,
   "id": "c3b50999-0253-4fc6-856f-012e0b57349d",
   "metadata": {},
   "outputs": [],
   "source": [
    "districts[\"State\"].unique()"
   ]
  },
  {
   "cell_type": "code",
   "execution_count": null,
   "id": "8abcfbc9-73a1-43ac-bc79-f03df70ada56",
   "metadata": {},
   "outputs": [],
   "source": [
    "results[\"State\"].unique()"
   ]
  },
  {
   "cell_type": "code",
   "execution_count": null,
   "id": "10131363-9c94-4948-b717-6cf8bd533159",
   "metadata": {},
   "outputs": [],
   "source": [
    "results_corrected_state_names = {'ANDAMAN & NICOBAR ISLANDS' : 'ANDAMAN AND NICOBAR ISLANDS', \n",
    "                                 'DADRA & NAGAR HAVELI AND DAMAN & DIU' : 'DADRA AND NAGAR HAVELI AND DAMAN AND DIU',\n",
    "                                 'NCT OF DELHI' : 'DELHI'}"
   ]
  },
  {
   "cell_type": "code",
   "execution_count": null,
   "id": "f5f6000e-6cb4-4443-874f-7bc16fab9931",
   "metadata": {},
   "outputs": [],
   "source": [
    "results[\"State\"] = results[\"State\"].replace(results_corrected_state_names)"
   ]
  },
  {
   "cell_type": "code",
   "execution_count": null,
   "id": "5aa3d2f8-2f87-4601-b9db-c8b34c33b00c",
   "metadata": {},
   "outputs": [],
   "source": [
    "districts_corrected_state_names = {'ANDAMAN & NICOBAR' : 'ANDAMAN AND NICOBAR ISLANDS',\n",
    "                                   'ORISSA' : 'ODISHA',\n",
    "                                   'DADRA & NAGAR HAVELI' : 'DADRA AND NAGAR HAVELI AND DAMAN AND DIU', \n",
    "                                   'DAMAN & DIU' : 'DADRA AND NAGAR HAVELI AND DAMAN AND DIU', \n",
    "                                   'JAMMU & KASHMIR' : 'JAMMU AND KASHMIR'}"
   ]
  },
  {
   "cell_type": "code",
   "execution_count": null,
   "id": "200bd2ba-9873-4af6-944b-1006fee22698",
   "metadata": {},
   "outputs": [],
   "source": [
    "districts[\"State\"] = districts[\"State\"].replace(districts_corrected_state_names)"
   ]
  },
  {
   "cell_type": "code",
   "execution_count": null,
   "id": "628ba9cb-d0cd-416b-acfb-10999a75a41b",
   "metadata": {},
   "outputs": [],
   "source": [
    "# J&K has been split since 2019 election...\n",
    "# Remove Ladakh from J&K, make it a state"
   ]
  },
  {
   "cell_type": "code",
   "execution_count": null,
   "id": "6b4d8967-5950-4fff-995e-1ecd0f42f738",
   "metadata": {},
   "outputs": [],
   "source": [
    "districts[districts['State'] == 'JAMMU AND KASHMIR']"
   ]
  },
  {
   "cell_type": "code",
   "execution_count": null,
   "id": "c45e85da-97c1-43a9-be1a-2045bc7e85d8",
   "metadata": {},
   "outputs": [],
   "source": [
    "results[results['State'] == 'JAMMU AND KASHMIR']['Constituency'].value_counts()"
   ]
  },
  {
   "cell_type": "code",
   "execution_count": null,
   "id": "3edb7716-0584-4495-862e-971b37c18af8",
   "metadata": {},
   "outputs": [],
   "source": [
    "districts.loc[((districts['State'] == 'JAMMU AND KASHMIR') & (districts['Constituency'] == 'LADAKH')), 'State'] = 'LADAKH'"
   ]
  },
  {
   "cell_type": "code",
   "execution_count": null,
   "id": "6336c494-6730-4082-8935-cb9a2de6ed58",
   "metadata": {},
   "outputs": [],
   "source": [
    "merged_2024 = pd.merge(districts, results, how=\"left\", on=[\"State\", \"Constituency\"])"
   ]
  },
  {
   "cell_type": "code",
   "execution_count": null,
   "id": "d7245d73-bf69-4bef-b367-83a33f32c28b",
   "metadata": {},
   "outputs": [],
   "source": [
    "merged_2024[merged_2024['Party'].isna()]['Constituency'].count()  # x mis-matched constituency names"
   ]
  },
  {
   "cell_type": "code",
   "execution_count": null,
   "id": "738ca18e-64d4-432f-9e76-3ca691ced560",
   "metadata": {},
   "outputs": [],
   "source": [
    "merged_2024[merged_2024['Party'].isna()]['Constituency'].sort_values(ascending=True).unique()"
   ]
  },
  {
   "cell_type": "code",
   "execution_count": null,
   "id": "2f193464-c97e-4699-8704-c76493523462",
   "metadata": {},
   "outputs": [],
   "source": [
    "results[\"Constituency\"].sort_values().unique()"
   ]
  },
  {
   "cell_type": "code",
   "execution_count": null,
   "id": "be3402ed-56e1-43e1-a803-68d6d9c48891",
   "metadata": {},
   "outputs": [],
   "source": [
    "results_corrected_constituency_names = {'ANANTHAPUR' :'ANANTAPUR', \n",
    "                                        'ANDAMAN & NICOBAR ISLANDS' : 'ANDAMAN AND NICOBAR ISLANDS',\n",
    "                                        'BAHARAICH' : 'BAHRAICH', \n",
    "                                        'BHANDARA GONDIYA' : 'BHANDARA-GONDIYA',\n",
    "                                        'DADAR & NAGAR HAVELI' : 'DADRA AND NAGAR HAVELI', \n",
    "                                        'GADCHIROLI - CHIMUR' : 'GADCHIROLI-CHIMUR',\n",
    "                                        'HATKANANGALE' : 'HATKANANGLE', \n",
    "                                        'JOYNAGAR' : 'JAYNAGAR', \n",
    "                                        #'KALIABOR',  # Assam\n",
    "                                        'KURNOOLU' : 'KURNOOL', \n",
    "                                        #'MANGALDOI',  # Assam\n",
    "                                        'MUMBAI NORTH CENTRAL' : 'MUMBAI NORTH-CENTRAL', \n",
    "                                        'MUMBAI NORTH EAST' : 'MUMBAI NORTH-EAST', \n",
    "                                        'MUMBAI NORTH WEST' : 'MUMBAI NORTH-WEST', \n",
    "                                        'MUMBAI SOUTH CENTRAL' : 'MUMBAI SOUTH-CENTRAL',\n",
    "                                        'NARSARAOPET' : 'NARASARAOPET', \n",
    "                                        'NORTH-EAST DELHI' : 'NORTH EAST DELHI', \n",
    "                                        'NORTH-WEST DELHI' : 'NORTH WEST DELHI', \n",
    "                                        #'NOWGONG',  # Assam\n",
    "                                        'PALAMAU' : 'PALAMU', \n",
    "                                        'PATLIPUTRA' : 'PATALIPUTRA', \n",
    "                                        'RATNAGIRI- SINDHUDURG' : 'RATNAGIRI-SINDHUDURG',\n",
    "                                        'SRERAMPUR' : 'SREERAMPUR', \n",
    "                                        #'TEZPUR',  # Assam\n",
    "                                        'THIRUPATHI' : 'TIRUPATI',\n",
    "                                        'YAVATMAL- WASHIM' : 'YAVATMAL-WASHIM'}"
   ]
  },
  {
   "cell_type": "code",
   "execution_count": null,
   "id": "dd7d9050-bd09-4170-8334-e02e569565fe",
   "metadata": {},
   "outputs": [],
   "source": [
    "districts_corrected_constituency_names = {'ANANTNAG' : 'ANANTNAG-RAJOURI',\n",
    "                                          'ANDAMAN & NICOBAR' : 'ANDAMAN AND NICOBAR ISLANDS',\n",
    "                                          'ARAMBAG' : 'ARAMBAGH',\n",
    "                                          #'AUTONOMOUS DISTRICT' : ,  # Assam\n",
    "                                          'DADRA & NAGAR HAVELI' : 'DADRA AND NAGAR HAVELI',\n",
    "                                          'GAUHATI' : 'GUWAHATI', \n",
    "                                          'HARDWAR' : 'HARIDWAR', \n",
    "                                          'KARAULI -DHOLPUR' : 'KARAULI-DHOLPUR',\n",
    "                                          'MUMBAI SOUTH -CENTRAL' : 'MUMBAI SOUTH-CENTRAL',\n",
    "                                          'PONDICHERRY' : 'PUDUCHERRY',\n",
    "                                          'RATNAGIRI -SINDHUDURG' : 'RATNAGIRI-SINDHUDURG',\n",
    "                                          'TONK - SAWAI MADHOPUR' : 'TONK-SAWAI MADHOPUR'}"
   ]
  },
  {
   "cell_type": "code",
   "execution_count": null,
   "id": "480cacc8-9164-4d1b-968a-dee38f3c258c",
   "metadata": {},
   "outputs": [],
   "source": [
    "results[\"Constituency\"] = results[\"Constituency\"].replace(results_corrected_constituency_names)"
   ]
  },
  {
   "cell_type": "code",
   "execution_count": null,
   "id": "0fddbb30-f438-4988-ba31-ef492d8a5e06",
   "metadata": {},
   "outputs": [],
   "source": [
    "districts[\"Constituency\"] = districts[\"Constituency\"].replace(districts_corrected_constituency_names)"
   ]
  },
  {
   "cell_type": "code",
   "execution_count": null,
   "id": "b063e6f5-c997-4410-8b65-b4feec82eeff",
   "metadata": {},
   "outputs": [],
   "source": [
    "# Merge again\n",
    "merged_2024 = pd.merge(districts, results, how=\"left\", on=[\"State\",\"Constituency\"])\n",
    "merged_2024.head(4)"
   ]
  },
  {
   "cell_type": "code",
   "execution_count": null,
   "id": "1b9c5864-a66d-4fa7-b7a9-595c652eeff0",
   "metadata": {},
   "outputs": [],
   "source": [
    "merged_2024[merged_2024['Party'].isna()]['Constituency'].sort_values(ascending=True).unique()  # Only Assam!"
   ]
  },
  {
   "cell_type": "markdown",
   "id": "96c60b3f-e34d-4903-a01d-899513d8ff5d",
   "metadata": {},
   "source": [
    "**Create alliance groupings**"
   ]
  },
  {
   "cell_type": "code",
   "execution_count": null,
   "id": "66dd984f-301e-436e-b40a-4772af193de7",
   "metadata": {},
   "outputs": [],
   "source": [
    "# Plus independent O. Paneerselvam in TN - Ramanathapuram\n",
    "nda_parties_2024 = ['BHARATIYA JANATA PARTY', 'TELUGU DESAM', \n",
    "                    'JANATA DAL (UNITED)', 'SHIV SENA', \n",
    "                    'PATTALI MAKKAL KATCHI', 'LOK JANSHAKTI PARTY(RAM VILAS)', \n",
    "                    'NATIONALIST CONGRESS PARTY', 'BHARATH DHARMA JANA SENA', \n",
    "                    'JANATA DAL (SECULAR)', 'TAMIL MAANILA CONGRESS (MOOPANAR)', \n",
    "                    'AMMA MAKKAL MUNNETTRA KAZAGAM', 'APNA DAL (SONEYLAL)', \n",
    "                    'ASOM GANA PARISHAD', 'JANASENA PARTY', \n",
    "                    \"NATIONAL PEOPLE'S PARTY\", 'RASHTRIYA LOK DAL', \n",
    "                    'AJSU PARTY', 'HINDUSTANI AWAM MORCHA (SECULAR)', \n",
    "                    'NAGA PEOPLES FRONT', 'NATIONALIST DEMOCRATIC PROGRESSIVE PARTY', \n",
    "                    'SIKKIM KRANTIKARI MORCHA', 'RASHTRIYA LOK MORCHA', \n",
    "                    'RASHTRIYA SAMAJ PAKSHA', 'SUHELDEV BHARATIYA SAMAJ PARTY', \n",
    "                    \"UNITED PEOPLE'S PARTY, LIBERAL\"]"
   ]
  },
  {
   "cell_type": "code",
   "execution_count": null,
   "id": "0145dd30-4f47-493e-828b-110e694206a6",
   "metadata": {},
   "outputs": [],
   "source": [
    "# check\n",
    "india_alliance_parties_2024 = ['INDIAN NATIONAL CONGRESS', 'SAMAJWADI PARTY', \n",
    "                               'ALL INDIA TRINAMOOL CONGRESS', 'DRAVIDA MUNNETRA KAZHAGAM', \n",
    "                               'SHIV SENA (UDDHAV BALASAHEB THACKERAY)', 'NATIONALIST CONGRESS PARTY – SHARADCHANDRA PAWAR', \n",
    "                               'RASHTRIYA JANATA DAL', 'AAM AADMI PARTY', \n",
    "                               'JHARKHAND MUKTI MORCHA', 'COMMUNIST PARTY OF INDIA (MARXIST)', \n",
    "                               'INDIAN UNION MUSLIM LEAGUE', 'JAMMU & KASHMIR NATIONAL CONFERENCE', \n",
    "                               'COMMUNIST PARTY OF INDIA', 'KERALA CONGRESS (M)', \n",
    "                               'VIDUTHALAI CHIRUTHAIGAL KATCHI', 'REVOLUTIONARY SOCIALIST PARTY', \n",
    "                               'MARUMALARCHI DRAVIDA MUNNETRA KAZHAGAM', 'COMMUNIST PARTY OF INDIA (MARXIST–LENINIST) LIBERATION', \n",
    "                               'KERALA CONGRESS', 'PEASANTS AND WORKERS PARTY OF INDIA', \n",
    "                               'ALL INDIA FORWARD BLOC', 'JAMMU AND KASHMIR PEOPLES DEMOCRATIC PARTY', \n",
    "                               'MANITHANEYA MAKKAL KATCHI', 'KONGUNADU MAKKAL DESIA KATCHI', \n",
    "                               'RAIJOR DAL', 'ASSAM JATIYA PARISHAD', \n",
    "                               'ALL PARTY HILL LEADERS CONFERENCE', 'ANCHALIK GANA MORCHA', \n",
    "                               'MAKKAL NEEDHI MAIAM', 'GOA FORWARD PARTY', \n",
    "                               'RASHTRIYA LOKTANTRIK PARTY', 'PURBANCHAL LOK PARISHAD', \n",
    "                               'JATIYA DAL ASSAM', 'SAMAJWADI GANARAJYA PARTY', \n",
    "                               'INDIAN NATIONAL LEAGUE', 'BHARAT ADIVASI PARTY']"
   ]
  },
  {
   "cell_type": "code",
   "execution_count": null,
   "id": "eb32a57a-3be2-410b-9fb3-0b1252d3099b",
   "metadata": {},
   "outputs": [],
   "source": [
    "results['Party'].sort_values().unique()"
   ]
  },
  {
   "cell_type": "markdown",
   "id": "6423ac39-0498-4bcd-92de-98d041ad2749",
   "metadata": {},
   "source": [
    "**Maps**"
   ]
  },
  {
   "cell_type": "markdown",
   "id": "b38947c0-245a-4b00-adb6-cdc8f87b959d",
   "metadata": {},
   "source": [
    "***BJP 2024***"
   ]
  },
  {
   "cell_type": "code",
   "execution_count": null,
   "id": "174f345e-cbd0-4c56-9e4a-251f7e91121a",
   "metadata": {},
   "outputs": [],
   "source": [
    "results_2024_bjp = results[results[\"Party\"] == \"BHARATIYA JANATA PARTY\"].copy()"
   ]
  },
  {
   "cell_type": "code",
   "execution_count": null,
   "id": "dc961e97-3080-4551-9505-73f9f6ee2e80",
   "metadata": {},
   "outputs": [],
   "source": [
    "merged_2024_bjp = pd.merge(districts, results_2024_bjp, on=[\"State\", \"Constituency\"], how=\"left\")"
   ]
  },
  {
   "cell_type": "code",
   "execution_count": null,
   "id": "35ca19f2-7ce9-4cfb-bf3a-d977595cfa83",
   "metadata": {},
   "outputs": [],
   "source": [
    "merged_2024_bjp"
   ]
  },
  {
   "cell_type": "code",
   "execution_count": null,
   "id": "0c2147d6-28e0-417e-a4cb-178cd61972d4",
   "metadata": {},
   "outputs": [],
   "source": [
    "merged_2024_bjp['Party'].value_counts(dropna=False)  # 436 BJP. Should be 441, probably Assam"
   ]
  },
  {
   "cell_type": "code",
   "execution_count": null,
   "id": "b0c2ed5d-a2a3-4255-81fa-290a97c93138",
   "metadata": {},
   "outputs": [],
   "source": [
    "# Initial plot\n",
    "geo_bjp_2024 = gpd.GeoDataFrame(merged_2024_bjp, geometry='geometry')"
   ]
  },
  {
   "cell_type": "code",
   "execution_count": null,
   "id": "7e8bdcc8-bcc3-44e4-8dd0-8bf0474db3f4",
   "metadata": {},
   "outputs": [],
   "source": [
    "geo_bjp_2024"
   ]
  },
  {
   "cell_type": "code",
   "execution_count": null,
   "id": "6b7c590a-960d-4577-beaf-449831f19701",
   "metadata": {},
   "outputs": [],
   "source": [
    "# Define the colormap (from lighter to darker orange)\n",
    "cmap = mcolors.LinearSegmentedColormap.from_list('orange_cmap', ['#FFEB99', '#FF6600'])\n",
    "\n",
    "# Separate the data based on vote share\n",
    "bjp_candidates = geo_bjp_2024[geo_bjp_2024[\"Vote Share (%)\"] > 0]\n",
    "nda_candidates = geo_bjp_2024[geo_bjp_2024[\"Vote Share (%)\"].isna()]\n",
    "\n",
    "# Plot the GeoDataFrame\n",
    "fig, ax = plt.subplots(1, 1, figsize=(8, 8))\n",
    "\n",
    "# Plot districts with BJP candidates\n",
    "bjp_candidates.plot(column=\"Vote Share (%)\", cmap=cmap, linewidth=0.1, edgecolor=\"gray\", ax=ax, legend=True)\n",
    "\n",
    "# Plot districts with no BJP presence in gray\n",
    "nda_candidates.plot(color=\"#D3D3D3\", linewidth=0.05, edgecolor=\"gray\", ax=ax)\n",
    "\n",
    "# Add a title\n",
    "ax.set_title(\"Constituency-wise BJP Vote Share in 2024 (%)\", fontsize=16)\n",
    "\n",
    "# Remove axis for better visualization\n",
    "ax.axis('off')\n",
    "\n",
    "# Show the plot\n",
    "plt.show()"
   ]
  },
  {
   "cell_type": "markdown",
   "id": "8180e901-b90f-4302-9472-96a5e0025633",
   "metadata": {},
   "source": [
    "**Interactive 2024 map for BJP**"
   ]
  },
  {
   "cell_type": "code",
   "execution_count": null,
   "id": "9f1861e9-9199-4d7f-b867-b0ed394a010b",
   "metadata": {},
   "outputs": [],
   "source": [
    "# Define the colors and corresponding thresholds\n",
    "colors = ['#FFEB99', '#FFC266', '#FF9933', '#FF6600']  # Light to dark orange\n",
    "thresholds = [0, 10, 30, 50, 100]  # Ranges for Vote Share (%)\n",
    "\n",
    "# Create a StepColormap\n",
    "colormap = StepColormap(\n",
    "    colors=colors,\n",
    "    vmin=0,\n",
    "    vmax=100,\n",
    "    index=thresholds,\n",
    "    caption=\"BJP Vote Share in 2024\"\n",
    ")\n",
    "\n",
    "# Initialize the map\n",
    "m = folium.Map(location=[20.5937, 78.9629], zoom_start=5, tiles=None)\n",
    "\n",
    "# Add GeoJSON data\n",
    "geojson = folium.GeoJson(\n",
    "    geo_bjp_2024.to_json(),\n",
    "    style_function=lambda feature: {\n",
    "        'fillColor': (\n",
    "            '#D3D3D3' if feature['properties']['Vote Share (%)'] in [None, ''] \n",
    "            else colormap(float(feature['properties']['Vote Share (%)']))\n",
    "        ),\n",
    "        'color': 'black',\n",
    "        'weight': 0.5,\n",
    "        'fillOpacity': 0.7,\n",
    "    },\n",
    "    tooltip=folium.GeoJsonTooltip(\n",
    "        fields=['State', 'Constituency', 'Vote Share (%)'],\n",
    "        aliases=['State:', 'Constituency:', 'Vote share (%):'],\n",
    "        localize=True\n",
    "    )\n",
    ").add_to(m)\n",
    "\n",
    "# Fit the map to the bounds of the GeoDataFrame\n",
    "bounds = geo_bjp_2024.total_bounds  # [minx, miny, maxx, maxy]\n",
    "m.fit_bounds([[bounds[1], bounds[0]], [bounds[3], bounds[2]]])\n",
    "\n",
    "# Add the colormap to the map\n",
    "colormap.add_to(m)\n",
    "\n",
    "# Inject CSS for a white background\n",
    "from folium.plugins import FloatImage\n",
    "\n",
    "css = \"\"\"\n",
    "<style>\n",
    "    .leaflet-container {\n",
    "        background: #FFFFFF !important;\n",
    "    }\n",
    "</style>\n",
    "\"\"\"\n",
    "folium.Html(css, script=True).add_to(m)\n",
    "\n",
    "# Save and display the map\n",
    "m.save(\"bjp_vote_share_map_2024.html\")\n",
    "m"
   ]
  },
  {
   "cell_type": "code",
   "execution_count": null,
   "id": "3fc17610-3122-46d2-91a7-adefb568e5ad",
   "metadata": {},
   "outputs": [],
   "source": [
    "# Save BJP results dataset\n",
    "geo_bjp_2024.to_file(\"geo_bjp_2024.geojson\", driver=\"GeoJSON\")"
   ]
  },
  {
   "cell_type": "markdown",
   "id": "59c5250d-b137-42c8-9b92-c7fad8db069b",
   "metadata": {},
   "source": [
    "**Congress maps**"
   ]
  },
  {
   "cell_type": "code",
   "execution_count": null,
   "id": "b7436b67-c3e7-4faa-9aba-cb1f6548e3db",
   "metadata": {},
   "outputs": [],
   "source": [
    "results_2024_congress = results[results[\"Party\"] == \"INDIAN NATIONAL CONGRESS\"].copy()"
   ]
  },
  {
   "cell_type": "code",
   "execution_count": null,
   "id": "33071c05-d39d-4f95-952b-a0f1405a1bb7",
   "metadata": {},
   "outputs": [],
   "source": [
    "results_2024_congress"
   ]
  },
  {
   "cell_type": "code",
   "execution_count": null,
   "id": "abde6bd1-7ca3-4b6f-979e-f72ef3551f6e",
   "metadata": {},
   "outputs": [],
   "source": [
    "merged_2024_congress = districts.merge(results_2024_congress, on=[\"State\", \"Constituency\"], how=\"left\")"
   ]
  },
  {
   "cell_type": "code",
   "execution_count": null,
   "id": "85fd7b49-6c01-426b-9c57-cb76ae608a66",
   "metadata": {},
   "outputs": [],
   "source": [
    "merged_2024_congress['Party'].value_counts(dropna=False)  # 323 INC. Should be 326. Probably Assam"
   ]
  },
  {
   "cell_type": "code",
   "execution_count": null,
   "id": "3df2c652-a9d2-4f96-9df5-65decf2bd6be",
   "metadata": {},
   "outputs": [],
   "source": [
    "geo_congress_2024 = gpd.GeoDataFrame(merged_2024_congress, geometry='geometry')"
   ]
  },
  {
   "cell_type": "markdown",
   "id": "b4cbb137-ec6c-43e5-9cb0-3acfffc0578a",
   "metadata": {},
   "source": [
    "***Interactive 2024 Congress map***"
   ]
  },
  {
   "cell_type": "code",
   "execution_count": null,
   "id": "c09bbffd-5624-4b1f-9a1b-d9cd1eae0abe",
   "metadata": {},
   "outputs": [],
   "source": [
    "# Define the colors and corresponding thresholds\n",
    "colors = ['#cff0fc', '#9cd6f5', '#65b9eb', '#0384fc']  # Light to dark blue\n",
    "thresholds = [0, 10, 30, 50, 100]  # Ranges for Vote Share (%)\n",
    "\n",
    "# Create a StepColormap\n",
    "colormap = StepColormap(\n",
    "    colors=colors,\n",
    "    vmin=0,\n",
    "    vmax=100,\n",
    "    index=thresholds,\n",
    "    caption=\"Congress Vote Share in 2024\"\n",
    ")\n",
    "\n",
    "# Initialize the map\n",
    "m = folium.Map(location=[20.5937, 78.9629], zoom_start=5, tiles=None)\n",
    "\n",
    "# Add GeoJSON data\n",
    "geojson = folium.GeoJson(\n",
    "    geo_congress_2024.to_json(),\n",
    "    style_function=lambda feature: {\n",
    "        'fillColor': (\n",
    "            '#D3D3D3' if feature['properties']['Vote Share (%)'] in [None, ''] \n",
    "            else colormap(float(feature['properties']['Vote Share (%)']))\n",
    "        ),\n",
    "        'color': 'black',\n",
    "        'weight': 0.5,\n",
    "        'fillOpacity': 0.7,\n",
    "    },\n",
    "    tooltip=folium.GeoJsonTooltip(\n",
    "        fields=['State', 'Constituency', 'Vote Share (%)'],\n",
    "        aliases=['State:', 'Constituency:', 'Vote share (%):'],\n",
    "        localize=True\n",
    "    )\n",
    ").add_to(m)\n",
    "\n",
    "# Fit the map to the bounds of the GeoDataFrame\n",
    "bounds = geo_congress_2024.total_bounds  # [minx, miny, maxx, maxy]\n",
    "m.fit_bounds([[bounds[1], bounds[0]], [bounds[3], bounds[2]]])\n",
    "\n",
    "# Add the colormap to the map\n",
    "colormap.add_to(m)\n",
    "\n",
    "# Inject CSS for a white background\n",
    "from folium.plugins import FloatImage\n",
    "\n",
    "css = \"\"\"\n",
    "<style>\n",
    "    .leaflet-container {\n",
    "        background: #FFFFFF !important;\n",
    "    }\n",
    "</style>\n",
    "\"\"\"\n",
    "folium.Html(css, script=True).add_to(m)\n",
    "\n",
    "# Save and display the map\n",
    "m.save(\"congress_vote_share_map_2024.html\")\n",
    "m"
   ]
  },
  {
   "cell_type": "code",
   "execution_count": null,
   "id": "eb402320-14da-4841-8443-34fa92289c57",
   "metadata": {},
   "outputs": [],
   "source": [
    "# Save Congress results dataset\n",
    "geo_congress_2024.to_file(\"geo_congress_2024.geojson\", driver=\"GeoJSON\")"
   ]
  },
  {
   "cell_type": "markdown",
   "id": "bc328428-829e-4a0d-b701-6fb53189874e",
   "metadata": {},
   "source": [
    "***NDA map***"
   ]
  },
  {
   "cell_type": "code",
   "execution_count": null,
   "id": "207c3170-1b3c-477f-9c52-fb45c7533873",
   "metadata": {},
   "outputs": [],
   "source": [
    "nda_results_2024 = results.copy()\n",
    "nda_results_2024['nda_tag'] = ((nda_results_2024[\"Party\"].isin(nda_parties_2024)) | \n",
    "                              ((nda_results_2024[\"Constituency\"] == \"RAMANATHAPURAM\") & (nda_results_2024[\"Candidate\"] == \"PANNEERSELVAM O S/O OTTAKARATHEVAR\")))"
   ]
  },
  {
   "cell_type": "code",
   "execution_count": null,
   "id": "85c9afe9-56a5-46bb-bfa5-17f5c8b74e0e",
   "metadata": {},
   "outputs": [],
   "source": [
    "nda_results_2024 = nda_results_2024[nda_results_2024['nda_tag'] == True]"
   ]
  },
  {
   "cell_type": "code",
   "execution_count": null,
   "id": "3a75e7e6-5968-4709-92e0-9ce0270eb0d8",
   "metadata": {},
   "outputs": [],
   "source": [
    "nda_results_2024.head()"
   ]
  },
  {
   "cell_type": "code",
   "execution_count": null,
   "id": "de45b6a9-f1bf-445d-b8fd-d05798569aa6",
   "metadata": {},
   "outputs": [],
   "source": [
    "nda_results_2024['Party'].value_counts(dropna=False)"
   ]
  },
  {
   "cell_type": "code",
   "execution_count": null,
   "id": "bc4133e6-ec10-4783-98df-3dd90645658d",
   "metadata": {},
   "outputs": [],
   "source": [
    "nda_results_2024[nda_results_2024.duplicated(subset=[\"Constituency\", \"State\"], keep=False)]  \n",
    "# Lots of Rashtriya Samaj Paksha; some National People's Party, some AJSU, one BJP "
   ]
  },
  {
   "cell_type": "code",
   "execution_count": null,
   "id": "bbc40742-8fa1-4290-8473-33aa51082ea2",
   "metadata": {},
   "outputs": [],
   "source": [
    "# Check RSP\n",
    "results[results['Party'] == 'RASHTRIYA SAMAJ PAKSHA']  \n",
    "# 18 seats, of which only 1 (in Maha) was part of NDA\n",
    "# In the other 17 seats they must have had friendly contests and got <1% vote share"
   ]
  },
  {
   "cell_type": "code",
   "execution_count": null,
   "id": "138509b5-24c4-4651-a7f6-373cf5988746",
   "metadata": {},
   "outputs": [],
   "source": [
    "# Drop the non-NDA Rashtriya Samaj Paksha candidates\n",
    "nda_results_2024 = nda_results_2024[~((nda_results_2024[\"Party\"] == \"RASHTRIYA SAMAJ PAKSHA\") & \n",
    "                                      (nda_results_2024[\"State\"] != \"MAHARASHTRA\"))]"
   ]
  },
  {
   "cell_type": "code",
   "execution_count": null,
   "id": "a40dc630-5cee-4d88-ad8f-5759cb249549",
   "metadata": {},
   "outputs": [],
   "source": [
    "# Now check AJSU\n",
    "results[results['Party'] == 'AJSU PARTY']  \n",
    "# 3 seats, of which only 1 (Giridih in Jharkhand) was part of NDA\n",
    "# In the other 2 seats they must have had friendly contests and got <0.5% vote share"
   ]
  },
  {
   "cell_type": "code",
   "execution_count": null,
   "id": "aa2a07d5-0533-468f-9947-fb0d94d761f7",
   "metadata": {},
   "outputs": [],
   "source": [
    "# Drop the non-NDA AJSU candidates\n",
    "nda_results_2024 = nda_results_2024[~((nda_results_2024[\"Party\"] == \"AJSU PARTY\") & \n",
    "                                      (nda_results_2024[\"State\"] != \"JHARKHAND\"))]"
   ]
  },
  {
   "cell_type": "code",
   "execution_count": null,
   "id": "82b36800-14ba-431d-8555-aa14eff60012",
   "metadata": {},
   "outputs": [],
   "source": [
    "# Now check National People's Party\n",
    "results[results['Party'] == \"NATIONAL PEOPLE'S PARTY\"]  \n",
    "# 3 seats, of which 2 (both in Meghalaya) were part of NDA\n",
    "# The other seat is in Mumbai so probably a totally different one-seat party"
   ]
  },
  {
   "cell_type": "code",
   "execution_count": null,
   "id": "069e5249-2206-4b43-ac11-8d588f5a28f4",
   "metadata": {},
   "outputs": [],
   "source": [
    "# Drop NATIONAL PEOPLE'S PARTY from Mumbai North-East\n",
    "nda_results_2024 = nda_results_2024[~((nda_results_2024[\"Party\"] == \"NATIONAL PEOPLE'S PARTY\") & \n",
    "                                      (nda_results_2024[\"State\"] != \"MEGHALAYA\"))]"
   ]
  },
  {
   "cell_type": "code",
   "execution_count": null,
   "id": "d3071469-4b30-4868-867b-575c9138ca1f",
   "metadata": {},
   "outputs": [],
   "source": [
    "# In Sikkim's lone seat, SKM and BJP are both part of NDA and both contested\n",
    "# But SKM got ~8x BJP's votes and was the main NDA contestant\n",
    "# So I'm going to drop BJP Sikkim from NDA dataset\n",
    "nda_results_2024 = nda_results_2024[~((nda_results_2024[\"Party\"] == \"BHARATIYA JANATA PARTY\") & \n",
    "                                      (nda_results_2024[\"State\"] == \"SIKKIM\"))]"
   ]
  },
  {
   "cell_type": "code",
   "execution_count": null,
   "id": "6905cdc9-4d03-422e-a7d1-8bf060bdb8df",
   "metadata": {},
   "outputs": [],
   "source": [
    "nda_results_2024"
   ]
  },
  {
   "cell_type": "code",
   "execution_count": null,
   "id": "7daee1ac-4948-4154-ae62-6a990be7cd6a",
   "metadata": {},
   "outputs": [],
   "source": [
    "geo_nda_2024 = pd.merge(districts, nda_results_2024, on=[\"State\", \"Constituency\"], how=\"left\")"
   ]
  },
  {
   "cell_type": "code",
   "execution_count": null,
   "id": "eb65ad2f-e12d-4b51-a92c-4cf403c869e7",
   "metadata": {},
   "outputs": [],
   "source": [
    "geo_nda_2024 = gpd.GeoDataFrame(geo_nda_2024, geometry='geometry')"
   ]
  },
  {
   "cell_type": "code",
   "execution_count": null,
   "id": "fb80c81c-9071-4792-8407-75fb0f361384",
   "metadata": {},
   "outputs": [],
   "source": [
    "geo_nda_2024"
   ]
  },
  {
   "cell_type": "code",
   "execution_count": null,
   "id": "cc740045-fc79-4697-bafc-75df96c4cf57",
   "metadata": {},
   "outputs": [],
   "source": [
    "# Basic map, NDA\n",
    "# No NDA candidates - Kashmir Valley; plus Assam will be dealt with later\n",
    "nda_candidates = geo_nda_2024[geo_nda_2024[\"Vote Share (%)\"].notna()]\n",
    "no_nda_candidates = geo_nda_2024[geo_nda_2024[\"Vote Share (%)\"].isna()]\n",
    "\n",
    "# Define the colormap (from lighter to darker orange)\n",
    "cmap = mcolors.LinearSegmentedColormap.from_list('orange_cmap', ['#FFEB99', '#FF6600'])\n",
    "\n",
    "# Plot the GeoDataFrame\n",
    "fig, ax = plt.subplots(1, 1, figsize=(8, 8))\n",
    "nda_candidates.plot(column=\"Vote Share (%)\", cmap=cmap, linewidth=0.1, edgecolor=\"gray\", ax=ax, legend=True)\n",
    "no_nda_candidates.plot(color=\"#D3D3D3\", linewidth=0.05, edgecolor=\"gray\", ax=ax)\n",
    "\n",
    "# Add a title\n",
    "ax.set_title(\"Constituency-wise NDA Vote Share in 2024 (%)\", fontsize=16)\n",
    "\n",
    "# Remove axis for better visualization\n",
    "ax.axis('off')\n",
    "\n",
    "# Show the plot\n",
    "plt.show()"
   ]
  },
  {
   "cell_type": "markdown",
   "id": "2d6c79ab-c215-49ec-b895-9a70b7c426ac",
   "metadata": {},
   "source": [
    "***Interactive 2024 NDA map***"
   ]
  },
  {
   "cell_type": "code",
   "execution_count": null,
   "id": "e262741e-a151-4030-857b-dc6301071f21",
   "metadata": {},
   "outputs": [],
   "source": [
    "# Define the colors and corresponding thresholds\n",
    "colors = ['#FFEB99', '#FFC266', '#FF9933', '#FF6600']  # Light to dark orange\n",
    "thresholds = [0, 10, 30, 50, 100]  # Ranges for Vote Share (%)\n",
    "\n",
    "# Create a StepColormap\n",
    "colormap = StepColormap(\n",
    "    colors=colors,\n",
    "    vmin=0,\n",
    "    vmax=100,\n",
    "    index=thresholds,\n",
    "    caption=\"NDA Vote Share in 2024\"\n",
    ")\n",
    "\n",
    "# Initialize the map\n",
    "m = folium.Map(location=[20.5937, 78.9629], zoom_start=5, tiles=None)\n",
    "\n",
    "# Add GeoJSON data\n",
    "geojson = folium.GeoJson(\n",
    "    geo_nda_2024.to_json(),\n",
    "    style_function=lambda feature: {\n",
    "        'fillColor': (\n",
    "            '#D3D3D3' if feature['properties']['Vote Share (%)'] in [None, ''] \n",
    "            else colormap(float(feature['properties']['Vote Share (%)']))\n",
    "        ),\n",
    "        'color': 'black',\n",
    "        'weight': 0.5,\n",
    "        'fillOpacity': 0.7,\n",
    "    },\n",
    "    tooltip=folium.GeoJsonTooltip(\n",
    "        fields=['State', 'Constituency', 'Vote Share (%)'],\n",
    "        aliases=['State:', 'Constituency:', 'Vote share (%):'],\n",
    "        localize=True\n",
    "    )\n",
    ").add_to(m)\n",
    "\n",
    "# Fit the map to the bounds of the GeoDataFrame\n",
    "bounds = geo_nda_2024.total_bounds  # [minx, miny, maxx, maxy]\n",
    "m.fit_bounds([[bounds[1], bounds[0]], [bounds[3], bounds[2]]])\n",
    "\n",
    "# Add the colormap to the map\n",
    "colormap.add_to(m)\n",
    "\n",
    "# Inject CSS for a white background\n",
    "from folium.plugins import FloatImage\n",
    "\n",
    "css = \"\"\"\n",
    "<style>\n",
    "    .leaflet-container {\n",
    "        background: #FFFFFF !important;\n",
    "    }\n",
    "</style>\n",
    "\"\"\"\n",
    "folium.Html(css, script=True).add_to(m)\n",
    "\n",
    "# Save and display the map\n",
    "m.save(\"nda_vote_share_map_2024.html\")\n",
    "m"
   ]
  },
  {
   "cell_type": "code",
   "execution_count": null,
   "id": "9a94bc4c-e610-4beb-8172-033c580a8f9c",
   "metadata": {},
   "outputs": [],
   "source": [
    "# Save NDA results dataset\n",
    "geo_nda_2024.to_file(\"geo_nda_2024.geojson\", driver=\"GeoJSON\")"
   ]
  },
  {
   "cell_type": "code",
   "execution_count": null,
   "id": "1fbd9292-ed88-4da2-88a8-d244948bf7fc",
   "metadata": {},
   "outputs": [],
   "source": []
  }
 ],
 "metadata": {
  "kernelspec": {
   "display_name": "Python 3 (ipykernel)",
   "language": "python",
   "name": "python3"
  },
  "language_info": {
   "codemirror_mode": {
    "name": "ipython",
    "version": 3
   },
   "file_extension": ".py",
   "mimetype": "text/x-python",
   "name": "python",
   "nbconvert_exporter": "python",
   "pygments_lexer": "ipython3",
   "version": "3.12.2"
  }
 },
 "nbformat": 4,
 "nbformat_minor": 5
}
